{
 "cells": [
  {
   "cell_type": "code",
   "execution_count": 7,
   "id": "d7c9d9aa-4b99-4d3e-a127-69373e7898c8",
   "metadata": {},
   "outputs": [],
   "source": [
    "from sklearn.datasets import make_regression\n",
    "import numpy as np"
   ]
  },
  {
   "cell_type": "code",
   "execution_count": 23,
   "id": "eb7a7621-7e8c-4efb-9c2b-8109df857867",
   "metadata": {},
   "outputs": [],
   "source": [
    "X,y=make_regression(n_samples=100,n_features=1,n_informative=1,n_targets=1,noise=20,random_state=41)"
   ]
  },
  {
   "cell_type": "code",
   "execution_count": 24,
   "id": "f4f1885d-181c-4d28-8866-76a7b01a0b65",
   "metadata": {},
   "outputs": [
    {
     "data": {
      "text/plain": [
       "<matplotlib.collections.PathCollection at 0x260e553d900>"
      ]
     },
     "execution_count": 24,
     "metadata": {},
     "output_type": "execute_result"
    },
    {
     "data": {
      "image/png": "[encoded data removed]",
      "text/plain": [
       "<Figure size 640x480 with 1 Axes>"
      ]
     },
     "metadata": {},
     "output_type": "display_data"
    }
   ],
   "source": [
    "import matplotlib.pyplot as plt\n",
    "plt.scatter(X,y)"
   ]
  },
  {
   "cell_type": "code",
   "execution_count": 25,
   "id": "0f04e29b-01aa-4703-9d95-5ae29db13d19",
   "metadata": {},
   "outputs": [],
   "source": [
    "from sklearn.linear_model import LinearRegression"
   ]
  },
  {
   "cell_type": "code",
   "execution_count": 26,
   "id": "b6df2172-f8b8-4b1a-90b0-37e1be0bac1d",
   "metadata": {},
   "outputs": [],
   "source": [
    "lr=LinearRegression()"
   ]
  },
  {
   "cell_type": "code",
   "execution_count": 27,
   "id": "790d54d9-085a-437e-b59c-e7defbc2c41d",
   "metadata": {},
   "outputs": [
    {
     "data": {
      "text/html": [
       "<style>#sk-container-id-3 {color: black;}#sk-container-id-3 pre{padding: 0;}#sk-container-id-3 div.sk-toggleable {background-color: white;}#sk-container-id-3 label.sk-toggleable__label {cursor: pointer;display: block;width: 100%;margin-bottom: 0;padding: 0.3em;box-sizing: border-box;text-align: center;}#sk-container-id-3 label.sk-toggleable__label-arrow:before {content: \"▸\";float: left;margin-right: 0.25em;color: #696969;}#sk-container-id-3 label.sk-toggleable__label-arrow:hover:before {color: black;}#sk-container-id-3 div.sk-estimator:hover label.sk-toggleable__label-arrow:before {color: black;}#sk-container-id-3 div.sk-toggleable__content {max-height: 0;max-width: 0;overflow: hidden;text-align: left;background-color: #f0f8ff;}#sk-container-id-3 div.sk-toggleable__content pre {margin: 0.2em;color: black;border-radius: 0.25em;background-color: #f0f8ff;}#sk-container-id-3 input.sk-toggleable__control:checked~div.sk-toggleable__content {max-height: 200px;max-width: 100%;overflow: auto;}#sk-container-id-3 input.sk-toggleable__control:checked~label.sk-toggleable__label-arrow:before {content: \"▾\";}#sk-container-id-3 div.sk-estimator input.sk-toggleable__control:checked~label.sk-toggleable__label {background-color: #d4ebff;}#sk-container-id-3 div.sk-label input.sk-toggleable__control:checked~label.sk-toggleable__label {background-color: #d4ebff;}#sk-container-id-3 input.sk-hidden--visually {border: 0;clip: rect(1px 1px 1px 1px);clip: rect(1px, 1px, 1px, 1px);height: 1px;margin: -1px;overflow: hidden;padding: 0;position: absolute;width: 1px;}#sk-container-id-3 div.sk-estimator {font-family: monospace;background-color: #f0f8ff;border: 1px dotted black;border-radius: 0.25em;box-sizing: border-box;margin-bottom: 0.5em;}#sk-container-id-3 div.sk-estimator:hover {background-color: #d4ebff;}#sk-container-id-3 div.sk-parallel-item::after {content: \"\";width: 100%;border-bottom: 1px solid gray;flex-grow: 1;}#sk-container-id-3 div.sk-label:hover label.sk-toggleable__label {background-color: #d4ebff;}#sk-container-id-3 div.sk-serial::before {content: \"\";position: absolute;border-left: 1px solid gray;box-sizing: border-box;top: 0;bottom: 0;left: 50%;z-index: 0;}#sk-container-id-3 div.sk-serial {display: flex;flex-direction: column;align-items: center;background-color: white;padding-right: 0.2em;padding-left: 0.2em;position: relative;}#sk-container-id-3 div.sk-item {position: relative;z-index: 1;}#sk-container-id-3 div.sk-parallel {display: flex;align-items: stretch;justify-content: center;background-color: white;position: relative;}#sk-container-id-3 div.sk-item::before, #sk-container-id-3 div.sk-parallel-item::before {content: \"\";position: absolute;border-left: 1px solid gray;box-sizing: border-box;top: 0;bottom: 0;left: 50%;z-index: -1;}#sk-container-id-3 div.sk-parallel-item {display: flex;flex-direction: column;z-index: 1;position: relative;background-color: white;}#sk-container-id-3 div.sk-parallel-item:first-child::after {align-self: flex-end;width: 50%;}#sk-container-id-3 div.sk-parallel-item:last-child::after {align-self: flex-start;width: 50%;}#sk-container-id-3 div.sk-parallel-item:only-child::after {width: 0;}#sk-container-id-3 div.sk-dashed-wrapped {border: 1px dashed gray;margin: 0 0.4em 0.5em 0.4em;box-sizing: border-box;padding-bottom: 0.4em;background-color: white;}#sk-container-id-3 div.sk-label label {font-family: monospace;font-weight: bold;display: inline-block;line-height: 1.2em;}#sk-container-id-3 div.sk-label-container {text-align: center;}#sk-container-id-3 div.sk-container {/* jupyter's `normalize.less` sets `[hidden] { display: none; }` but bootstrap.min.css set `[hidden] { display: none !important; }` so we also need the `!important` here to be able to override the default hidden behavior on the sphinx rendered scikit-learn.org. See: https://github.com/scikit-learn/scikit-learn/issues/21755 */display: inline-block !important;position: relative;}#sk-container-id-3 div.sk-text-repr-fallback {display: none;}</style><div id=\"sk-container-id-3\" class=\"sk-top-container\"><div class=\"sk-text-repr-fallback\"><pre>LinearRegression()</pre><b>In a Jupyter environment, please rerun this cell to show the HTML representation or trust the notebook. <br />On GitHub, the HTML representation is unable to render, please try loading this page with nbviewer.org.</b></div><div class=\"sk-container\" hidden><div class=\"sk-item\"><div class=\"sk-estimator sk-toggleable\"><input class=\"sk-toggleable__control sk-hidden--visually\" id=\"sk-estimator-id-3\" type=\"checkbox\" checked><label for=\"sk-estimator-id-3\" class=\"sk-toggleable__label sk-toggleable__label-arrow\">LinearRegression</label><div class=\"sk-toggleable__content\"><pre>LinearRegression()</pre></div></div></div></div></div>"
      ],
      "text/plain": [
       "LinearRegression()"
      ]
     },
     "execution_count": 27,
     "metadata": {},
     "output_type": "execute_result"
    }
   ],
   "source": [
    "lr.fit(X,y)"
   ]
  },
  {
   "cell_type": "code",
   "execution_count": 28,
   "id": "1b15ba9f-d083-42e8-b06b-b46f0b074a6d",
   "metadata": {},
   "outputs": [
    {
     "data": {
      "text/plain": [
       "array([60.6892352])"
      ]
     },
     "execution_count": 28,
     "metadata": {},
     "output_type": "execute_result"
    }
   ],
   "source": [
    "lr.coef_"
   ]
  },
  {
   "cell_type": "code",
   "execution_count": 29,
   "id": "275d90a0-37cd-48cc-b901-e4bffa4050bd",
   "metadata": {},
   "outputs": [
    {
     "data": {
      "text/plain": [
       "1.5892065051903073"
      ]
     },
     "execution_count": 29,
     "metadata": {},
     "output_type": "execute_result"
    }
   ],
   "source": [
    "lr.intercept_"
   ]
  },
  {
   "cell_type": "code",
   "execution_count": 36,
   "id": "f47ac99c-b29b-4a68-9fb4-b621482b2e2d",
   "metadata": {},
   "outputs": [],
   "source": [
    "class GDRegressor:\n",
    "\n",
    "    def __init__(self,learning_rate,epochs):\n",
    "        self.m=60.6892352\n",
    "        self.b=100\n",
    "        self.lr=learning_rate\n",
    "        self.epochs=epochs\n",
    "\n",
    "\n",
    "    def fit(self,X,y):\n",
    "        #calculate b using GD\n",
    "        for i in range(self.epochs):\n",
    "            loss_slope= -2 * np.sum(y-self.m*X.ravel()-self.b)\n",
    "            self.b= self.b-(self.lr * loss_slope)\n",
    "            print(loss_slope,\".....\",self.b)\n",
    "        print(self.b)"
   ]
  },
  {
   "cell_type": "code",
   "execution_count": 39,
   "id": "fb0fffcf-5f96-4bea-a323-80fd143721c6",
   "metadata": {},
   "outputs": [
    {
     "name": "stdout",
     "output_type": "stream",
     "text": [
      "19682.15869896845 ..... 80.31784130103155\n",
      "15745.726959174763 ..... 64.57211434185679\n",
      "12596.58156733981 ..... 51.97553277451698\n",
      "10077.26525387185 ..... 41.89826752064513\n",
      "8061.812203097477 ..... 33.836455317547646\n",
      "6449.449762477982 ..... 27.387005555069663\n",
      "5159.559809982386 ..... 22.227445745087277\n",
      "4127.647847985908 ..... 18.099797897101368\n",
      "3302.1182783887266 ..... 14.79767961871264\n",
      "2641.694622710981 ..... 12.15598499600166\n",
      "2113.355698168785 ..... 10.042629297832875\n",
      "1690.6845585350277 ..... 8.351944739297847\n",
      "1352.5476468280226 ..... 6.999397092469825\n",
      "1082.0381174624179 ..... 5.9173589750074065\n",
      "865.630493969934 ..... 5.051728481037473\n",
      "692.5043951759474 ..... 4.359224085861525\n",
      "554.003516140758 ..... 3.8052205697207673\n",
      "443.20281291260636 ..... 3.362017756808161\n",
      "354.562250330085 ..... 3.0074555064780757\n",
      "283.64980026406784 ..... 2.7238057062140077\n",
      "226.9198402112545 ..... 2.4968858660027533\n",
      "181.5358721690036 ..... 2.31534999383375\n",
      "145.2286977352028 ..... 2.170121296098547\n",
      "116.18295818816219 ..... 2.0539383379103846\n",
      "92.94636655052972 ..... 1.960991971359855\n",
      "74.35709324042375 ..... 1.886634878119431\n",
      "59.48567459233901 ..... 1.827149203527092\n",
      "47.58853967387131 ..... 1.7795606638532206\n",
      "38.07083173909699 ..... 1.7414898321141237\n",
      "30.456665391277667 ..... 1.711033166722846\n",
      "24.36533231302205 ..... 1.686667834409824\n",
      "19.492265850417724 ..... 1.6671755685594063\n",
      "15.59381268033426 ..... 1.651581755879072\n",
      "12.475050144267144 ..... 1.6391067057348048\n",
      "9.980040115413702 ..... 1.629126665619391\n",
      "7.984032092330933 ..... 1.62114263352706\n",
      "6.387225673864929 ..... 1.6147554078531952\n",
      "5.109780539091915 ..... 1.6096456273141033\n",
      "4.087824431273358 ..... 1.60555780288283\n",
      "3.270259545018778 ..... 1.6022875433378112\n",
      "2.6162076360151083 ..... 1.5996713357017962\n",
      "2.0929661088122344 ..... 1.597578369592984\n",
      "1.6743728870495858 ..... 1.5959039967059343\n",
      "1.339498309639776 ..... 1.5945644983962945\n",
      "1.0715986477118378 ..... 1.5934928997485827\n",
      "0.8572789181694276 ..... 1.5926356208304133\n",
      "0.6858231345356209 ..... 1.5919497976958776\n",
      "0.5486585076283852 ..... 1.5914011391882492\n",
      "0.43892680610271384 ..... 1.5909622123821465\n",
      "0.3511414448819856 ..... 1.5906110709372645\n",
      "0.28091315590567945 ..... 1.5903301577813589\n",
      "0.22473052472473398 ..... 1.5901054272566342\n",
      "0.17978441977968984 ..... 1.5899256428368544\n",
      "0.14382753582364316 ..... 1.5897818153010308\n",
      "0.11506202865898274 ..... 1.5896667532723718\n",
      "0.09204962292712082 ..... 1.5895747036494448\n",
      "0.07363969834181816 ..... 1.589501063951103\n",
      "0.05891175867336429 ..... 1.5894421521924296\n",
      "0.04712940693885059 ..... 1.5893950227854907\n",
      "0.0377035255509135 ..... 1.5893573192599397\n",
      "0.030162820440740035 ..... 1.589327156439499\n",
      "0.024130256352535184 ..... 1.5893030261831465\n",
      "0.019304205082040227 ..... 1.5892837219780644\n",
      "0.015443364065699683 ..... 1.5892682786139987\n",
      "0.012354691252685512 ..... 1.589255923922746\n",
      "0.009883753002171147 ..... 1.5892460401697437\n",
      "0.007907002401580598 ..... 1.5892381331673422\n",
      "0.006325601921233215 ..... 1.589231807565421\n",
      "0.005060481536990125 ..... 1.5892267470838841\n",
      "0.004048385229694418 ..... 1.5892226986986544\n",
      "0.0032387081838329834 ..... 1.5892194599904705\n",
      "0.0025909665470322807 ..... 1.5892168690239235\n",
      "0.002072773237411951 ..... 1.589214796250686\n",
      "0.0016582185901192759 ..... 1.5892131380320957\n",
      "0.0013265748720066028 ..... 1.5892118114572238\n",
      "0.0010612598977708387 ..... 1.589210750197326\n",
      "0.0008490079179033216 ..... 1.589209901189408\n",
      "0.0006792063344711607 ..... 1.5892092219830736\n",
      "0.0005433650676103241 ..... 1.589208678618006\n",
      "0.0004346920540889698 ..... 1.5892082439259518\n",
      "0.0003477536432505701 ..... 1.5892078961723086\n",
      "0.0002782029146324305 ..... 1.589207617969394\n",
      "0.00022256233153328253 ..... 1.5892073954070625\n",
      "0.00017804986525860045 ..... 1.5892072173571972\n",
      "0.00014243989238948984 ..... 1.5892070749173048\n",
      "0.00011395191371832425 ..... 1.5892069609653912\n",
      "9.116153118782222e-05 ..... 1.58920686980386\n",
      "7.292922488488784e-05 ..... 1.589206796874635\n",
      "5.8343379848224686e-05 ..... 1.5892067385312552\n",
      "4.667470381392036e-05 ..... 1.5892066918565513\n",
      "3.7339763107269164e-05 ..... 1.5892066545167882\n",
      "2.98718103373119e-05 ..... 1.5892066246449779\n",
      "2.3897448468090943e-05 ..... 1.5892066007475294\n",
      "1.9117958775183297e-05 ..... 1.5892065816295706\n",
      "1.529436699243547e-05 ..... 1.5892065663352037\n",
      "1.2235493741741266e-05 ..... 1.58920655409971\n",
      "9.788394958576419e-06 ..... 1.589206544311315\n",
      "7.830716047152464e-06 ..... 1.589206536480599\n",
      "6.264572633085663e-06 ..... 1.5892065302160263\n",
      "5.0116579721759535e-06 ..... 1.5892065252043683\n",
      "1.5892065252043683\n"
     ]
    }
   ],
   "source": [
    "gd=GDRegressor(0.001,100)\n",
    "gd.fit(X,y)"
   ]
  },
  {
   "cell_type": "code",
   "execution_count": null,
   "id": "9b4cb793-c9a7-4c8b-a1ec-6b8ff1ed976e",
   "metadata": {},
   "outputs": [],
   "source": []
  },
  {
   "cell_type": "code",
   "execution_count": null,
   "id": "19243a2a-597f-4f7a-8223-d64fcd4efe80",
   "metadata": {},
   "outputs": [],
   "source": []
  }
 ],
 "metadata": {
  "kernelspec": {
   "display_name": "Python 3 (ipykernel)",
   "language": "python",
   "name": "python3"
  },
  "language_info": {
   "codemirror_mode": {
    "name": "ipython",
    "version": 3
   },
   "file_extension": ".py",
   "mimetype": "text/x-python",
   "name": "python",
   "nbconvert_exporter": "python",
   "pygments_lexer": "ipython3",
   "version": "3.10.10"
  }
 },
 "nbformat": 4,
 "nbformat_minor": 5
}
